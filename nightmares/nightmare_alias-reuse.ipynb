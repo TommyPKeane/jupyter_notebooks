{
 "cells": [
  {
   "cell_type": "markdown",
   "metadata": {},
   "source": [
    "# Nightmare: Alias Reuse\n",
    "\n",
    "This is a \"nightmare\" notebook to show the horrible dangers of alias reuse in a Jupyter (iPython) Notebook.\n",
    "\n",
    "Do __not__ do what you see here. Learn it, recognise it, and then go do the opposite!\n",
    "\n",
    "Stay safe out there, y'all!"
   ]
  },
  {
   "cell_type": "code",
   "execution_count": 14,
   "metadata": {},
   "outputs": [
    {
     "name": "stdout",
     "output_type": "stream",
     "text": [
      "True Center: 5\n",
      "Noisy Center: 75\n"
     ]
    }
   ],
   "source": [
    "# Let's make some objects\n",
    "\n",
    "import time;\n",
    "\n",
    "def get_random_number():\n",
    "    \"\"\"Provide a 'random' number in the range [0, 100] doubly inclusive.\n",
    "    \n",
    "    Returns\n",
    "        int: A 'random' integer based on computer time.\n",
    "    \"\"\"\n",
    "    random_number = time.localtime().tm_sec;\n",
    "    random_number = ((random_number * 37) % 101);\n",
    "    return (random_number);\n",
    "# fed\n",
    "\n",
    "random = get_random_number();\n",
    "\n",
    "center = 5;\n",
    "\n",
    "noise = center + random;\n",
    "\n",
    "print(\"True Center:\", center);\n",
    "print(\"Noisy Center:\", noise);"
   ]
  },
  {
   "cell_type": "markdown",
   "metadata": {},
   "source": [
    "Not too terrible so far, we made a \"random\" number that's generated from a function using the computer time, and then we shifted our `center` value by that \"random\" amount. You can actually keep re-running that cell, above, and see the numbers changing.\n",
    "\n",
    "But... we chose a terrible name, `random`, which is way too generic and we're gonna run into alias stomping.\n",
    "\n",
    "Especially because the `random` package is a base Python package that is used for random number generation and probabilistic models.\n",
    "\n",
    "Let's say we took the above and split it apart into two cells, to keep our function separate from our test code, and let's try a little bit of closure \"magic\" to spice things up:"
   ]
  },
  {
   "cell_type": "code",
   "execution_count": 27,
   "metadata": {},
   "outputs": [],
   "source": [
    "# Same as above, almost, but now we've defined a self-referential closure...\n",
    "\n",
    "import time;\n",
    "\n",
    "random = 37;\n",
    "\n",
    "def get_random_number():\n",
    "    \"\"\"Provide a 'random' number in the range [0, 100] doubly inclusive.\n",
    "    \n",
    "    Returns\n",
    "        int: A 'random' integer based on computer time.\n",
    "    \"\"\"\n",
    "    random_number = time.localtime().tm_sec;\n",
    "    random_number = ((random_number * random) % 101);\n",
    "    print(\"DEBUG | random:\", random);\n",
    "    return (random_number);\n",
    "# fed"
   ]
  },
  {
   "cell_type": "code",
   "execution_count": 35,
   "metadata": {},
   "outputs": [
    {
     "name": "stdout",
     "output_type": "stream",
     "text": [
      "DEBUG | random: 72\n",
      "True Center: 5\n",
      "Noisy Center: 70\n"
     ]
    }
   ],
   "source": [
    "random = get_random_number();\n",
    "\n",
    "center = 5;\n",
    "\n",
    "noise = center + random;\n",
    "\n",
    "print(\"True Center:\", center);\n",
    "print(\"Noisy Center:\", noise);"
   ]
  },
  {
   "cell_type": "markdown",
   "metadata": {},
   "source": [
    "Jinkies! What fresh new hell is this!?!?\n",
    "\n",
    "We defined `random`, then we defined a function below it that references it out of scope (using a closure), and then in our next cell we reassign it to the output of that function. Yikes!\n",
    "\n",
    "Makes things a bit more \"random\"-esque ... kinda. Not really, since it's just a bit of shifting, but kinda yes, because it's based on runtime and the previous runtime and all the previous runtimes before that. So yeah, maybe, kinda neat, right?\n",
    "\n",
    "_Wrong!!!_\n",
    "\n",
    "Hellscape!!!\n",
    "\n",
    "This is super gross. This is a nightmare. We've now got a circular dependency in our code and we've alias stomped ourselves. Sure, it's on purpose, but now let's just make it really friggin' terrible:"
   ]
  },
  {
   "cell_type": "code",
   "execution_count": 36,
   "metadata": {},
   "outputs": [
    {
     "ename": "TypeError",
     "evalue": "unsupported operand type(s) for *: 'int' and 'module'",
     "output_type": "error",
     "traceback": [
      "\u001b[0;31m---------------------------------------------------------------------------\u001b[0m",
      "\u001b[0;31mTypeError\u001b[0m                                 Traceback (most recent call last)",
      "\u001b[0;32m<ipython-input-36-209351ea648e>\u001b[0m in \u001b[0;36m<module>\u001b[0;34m\u001b[0m\n\u001b[1;32m      2\u001b[0m \u001b[0;34m\u001b[0m\u001b[0m\n\u001b[1;32m      3\u001b[0m \u001b[0mtheir_random\u001b[0m \u001b[0;34m=\u001b[0m \u001b[0mint\u001b[0m\u001b[0;34m(\u001b[0m\u001b[0mrandom\u001b[0m\u001b[0;34m.\u001b[0m\u001b[0muniform\u001b[0m\u001b[0;34m(\u001b[0m\u001b[0;36m0\u001b[0m\u001b[0;34m,\u001b[0m \u001b[0;36m100\u001b[0m\u001b[0;34m)\u001b[0m\u001b[0;34m)\u001b[0m\u001b[0;34m;\u001b[0m\u001b[0;34m\u001b[0m\u001b[0;34m\u001b[0m\u001b[0m\n\u001b[0;32m----> 4\u001b[0;31m \u001b[0mmy_random\u001b[0m \u001b[0;34m=\u001b[0m \u001b[0mget_random_number\u001b[0m\u001b[0;34m(\u001b[0m\u001b[0;34m)\u001b[0m\u001b[0;34m;\u001b[0m\u001b[0;34m\u001b[0m\u001b[0;34m\u001b[0m\u001b[0m\n\u001b[0m\u001b[1;32m      5\u001b[0m \u001b[0;34m\u001b[0m\u001b[0m\n\u001b[1;32m      6\u001b[0m \u001b[0mprint\u001b[0m\u001b[0;34m(\u001b[0m\u001b[0;34m\"Theirs:\"\u001b[0m\u001b[0;34m,\u001b[0m \u001b[0mtheir_random\u001b[0m\u001b[0;34m)\u001b[0m\u001b[0;34m;\u001b[0m\u001b[0;34m\u001b[0m\u001b[0;34m\u001b[0m\u001b[0m\n",
      "\u001b[0;32m<ipython-input-27-505b02357d2b>\u001b[0m in \u001b[0;36mget_random_number\u001b[0;34m()\u001b[0m\n\u001b[1;32m     12\u001b[0m     \"\"\"\n\u001b[1;32m     13\u001b[0m     \u001b[0mrandom_number\u001b[0m \u001b[0;34m=\u001b[0m \u001b[0mtime\u001b[0m\u001b[0;34m.\u001b[0m\u001b[0mlocaltime\u001b[0m\u001b[0;34m(\u001b[0m\u001b[0;34m)\u001b[0m\u001b[0;34m.\u001b[0m\u001b[0mtm_sec\u001b[0m\u001b[0;34m;\u001b[0m\u001b[0;34m\u001b[0m\u001b[0;34m\u001b[0m\u001b[0m\n\u001b[0;32m---> 14\u001b[0;31m     \u001b[0mrandom_number\u001b[0m \u001b[0;34m=\u001b[0m \u001b[0;34m(\u001b[0m\u001b[0;34m(\u001b[0m\u001b[0mrandom_number\u001b[0m \u001b[0;34m*\u001b[0m \u001b[0mrandom\u001b[0m\u001b[0;34m)\u001b[0m \u001b[0;34m%\u001b[0m \u001b[0;36m101\u001b[0m\u001b[0;34m)\u001b[0m\u001b[0;34m;\u001b[0m\u001b[0;34m\u001b[0m\u001b[0;34m\u001b[0m\u001b[0m\n\u001b[0m\u001b[1;32m     15\u001b[0m     \u001b[0mprint\u001b[0m\u001b[0;34m(\u001b[0m\u001b[0;34m\"DEBUG | random:\"\u001b[0m\u001b[0;34m,\u001b[0m \u001b[0mrandom\u001b[0m\u001b[0;34m)\u001b[0m\u001b[0;34m;\u001b[0m\u001b[0;34m\u001b[0m\u001b[0;34m\u001b[0m\u001b[0m\n\u001b[1;32m     16\u001b[0m     \u001b[0;32mreturn\u001b[0m \u001b[0;34m(\u001b[0m\u001b[0mrandom_number\u001b[0m\u001b[0;34m)\u001b[0m\u001b[0;34m;\u001b[0m\u001b[0;34m\u001b[0m\u001b[0;34m\u001b[0m\u001b[0m\n",
      "\u001b[0;31mTypeError\u001b[0m: unsupported operand type(s) for *: 'int' and 'module'"
     ]
    }
   ],
   "source": [
    "import random;\n",
    "\n",
    "their_random = int(random.uniform(0, 100));\n",
    "my_random = get_random_number();\n",
    "\n",
    "print(\"Theirs:\", their_random);\n",
    "print(\"  Ours:\", my_random);"
   ]
  },
  {
   "cell_type": "markdown",
   "metadata": {},
   "source": [
    "__Blorp!__\n",
    "\n",
    "What failed?! Oh, right! We chose a really terrible alias name of `random`, and then jammed that through a closure into our function, and then later we imported the Python package which gladly stomped on that alias, but then when went to use it inside the function, it failed horrendously because now `random` points to the import Module `random` and not our last assignment to the integer value `random`.\n",
    "\n",
    "Notice too that the code fails in the `get_random_number()` call which came after the `random.uniform()` call. So the value of `their_random` actually succeeded, but the value of `my_random` failed. Can we check this? Of course!\n",
    "\n",
    "Let the nightmare continue!!!"
   ]
  },
  {
   "cell_type": "code",
   "execution_count": 37,
   "metadata": {},
   "outputs": [
    {
     "name": "stdout",
     "output_type": "stream",
     "text": [
      "Theirs: 33\n"
     ]
    }
   ],
   "source": [
    "print(\"Theirs:\", their_random);"
   ]
  },
  {
   "cell_type": "code",
   "execution_count": 38,
   "metadata": {},
   "outputs": [
    {
     "ename": "NameError",
     "evalue": "name 'my_random' is not defined",
     "output_type": "error",
     "traceback": [
      "\u001b[0;31m---------------------------------------------------------------------------\u001b[0m",
      "\u001b[0;31mNameError\u001b[0m                                 Traceback (most recent call last)",
      "\u001b[0;32m<ipython-input-38-c7f1ce82df46>\u001b[0m in \u001b[0;36m<module>\u001b[0;34m\u001b[0m\n\u001b[0;32m----> 1\u001b[0;31m \u001b[0mprint\u001b[0m\u001b[0;34m(\u001b[0m\u001b[0;34m\"  Ours:\"\u001b[0m\u001b[0;34m,\u001b[0m \u001b[0mmy_random\u001b[0m\u001b[0;34m)\u001b[0m\u001b[0;34m;\u001b[0m\u001b[0;34m\u001b[0m\u001b[0;34m\u001b[0m\u001b[0m\n\u001b[0m",
      "\u001b[0;31mNameError\u001b[0m: name 'my_random' is not defined"
     ]
    }
   ],
   "source": [
    "print(\"  Ours:\", my_random);"
   ]
  },
  {
   "cell_type": "markdown",
   "metadata": {},
   "source": [
    "> _O ill-dispersing wind of misery!_<br>\n",
    "> _O my accursèd womb, the bed of death!_<br>\n",
    "> _A cockatrice hast thou hatched to the world,_<br>\n",
    "> _Whose unavoided eye is murderous._\n",
    "\n",
    "Let us end this horrible charade with that.\n",
    "\n",
    "___Don't do this!___\n",
    "\n",
    "Mixing alias stomping and closures is gonna be a nightmare. Don't do it. Save yourself, save your sanity. Don't do it."
   ]
  }
 ],
 "metadata": {
  "kernelspec": {
   "display_name": "Python 3",
   "language": "python",
   "name": "python3"
  },
  "language_info": {
   "codemirror_mode": {
    "name": "ipython",
    "version": 3
   },
   "file_extension": ".py",
   "mimetype": "text/x-python",
   "name": "python",
   "nbconvert_exporter": "python",
   "pygments_lexer": "ipython3",
   "version": "3.8.2"
  }
 },
 "nbformat": 4,
 "nbformat_minor": 4
}
